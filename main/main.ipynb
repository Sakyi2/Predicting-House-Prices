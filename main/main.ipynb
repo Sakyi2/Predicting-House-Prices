{
 "cells": [
  {
   "cell_type": "code",
   "execution_count": null,
   "id": "a954cb01",
   "metadata": {},
   "outputs": [],
   "source": [
    "import pandas from pandas\n",
    "import numpy as np"
   ]
  },
  {
   "cell_type": "code",
   "execution_count": null,
   "id": "fa97b705",
   "metadata": {},
   "outputs": [],
   "source": []
  }
 ],
 "metadata": {
  "language_info": {
   "name": "python"
  }
 },
 "nbformat": 4,
 "nbformat_minor": 5
}
